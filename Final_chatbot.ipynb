{
 "cells": [
  {
   "cell_type": "code",
   "execution_count": 2,
   "metadata": {},
   "outputs": [],
   "source": [
    "import chatbot\n",
    "\n",
    "# Use chatbot.chat_with_startbot to start the chat\n",
    "# type quit to end the chat"
   ]
  },
  {
   "cell_type": "code",
   "execution_count": 3,
   "metadata": {
    "scrolled": true
   },
   "outputs": [
    {
     "name": "stdout",
     "output_type": "stream",
     "text": [
      "ME : hi\n",
      "ro(BoT) :- Hey!\n",
      "ME : how are you\n",
      "ro(BoT) :- Couldn't be better.\n",
      "ME : when is your birthday\n",
      "ro(BoT) :- You know, I'm not really sure. But if you'd like to celebrate my birthday today, I'm all for it.\n",
      "ME : quit\n",
      "(ro)BOT: Ok,Bye!!!!\n"
     ]
    }
   ],
   "source": [
    "chatbot.chat_with_chatbot()"
   ]
  },
  {
   "cell_type": "code",
   "execution_count": null,
   "metadata": {},
   "outputs": [],
   "source": []
  }
 ],
 "metadata": {
  "kernelspec": {
   "display_name": "Python 3",
   "language": "python",
   "name": "python3"
  },
  "language_info": {
   "codemirror_mode": {
    "name": "ipython",
    "version": 3
   },
   "file_extension": ".py",
   "mimetype": "text/x-python",
   "name": "python",
   "nbconvert_exporter": "python",
   "pygments_lexer": "ipython3",
   "version": "3.7.3"
  }
 },
 "nbformat": 4,
 "nbformat_minor": 2
}
